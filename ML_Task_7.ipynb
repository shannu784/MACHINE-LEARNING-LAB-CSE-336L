{
  "nbformat": 4,
  "nbformat_minor": 0,
  "metadata": {
    "colab": {
      "provenance": []
    },
    "kernelspec": {
      "name": "python3",
      "display_name": "Python 3"
    },
    "language_info": {
      "name": "python"
    }
  },
  "cells": [
    {
      "cell_type": "markdown",
      "source": [
        "### **1. Create a vector (array) of 1XN dimension representing N-dimensional feature vector of a sample. Write a program to compute the mean and variance of the elements present in the array.**"
      ],
      "metadata": {
        "id": "AU8JLh36LmrN"
      }
    },
    {
      "cell_type": "code",
      "source": [
        "import numpy as np\n",
        "\n",
        "\n",
        "li1 = list(map(int,input().split()))\n",
        "li2 = list(map(int,input().split()))\n",
        "x = np.array(li1)\n",
        "y = np.array(li2)"
      ],
      "metadata": {
        "id": "zLsN7AGhSX7C",
        "colab": {
          "base_uri": "https://localhost:8080/"
        },
        "outputId": "1436d481-486c-4ca2-b08a-1a3853272a73"
      },
      "execution_count": null,
      "outputs": [
        {
          "name": "stdout",
          "output_type": "stream",
          "text": [
            "8 9 8 9 9 3 2\n",
            "3 4 2 5 1 6 2 \n"
          ]
        }
      ]
    },
    {
      "cell_type": "code",
      "source": [
        "import math\n",
        "def sample_variance(x):\n",
        "  leng = len(x)\n",
        "  x_dash = np.mean(x)\n",
        "  x1 = x - x_dash\n",
        "  x_square = np.square(x1)\n",
        "  x_sum = sum(x_square)\n",
        "  result = x_sum/(leng-1)\n",
        "  return result\n",
        "def population_variance(x):\n",
        "  leng = len(x)\n",
        "  x_dash = np.mean(x)\n",
        "  x1 = x - x_dash\n",
        "  x_square = np.square(x1)\n",
        "  x_sum = sum(x_square)\n",
        "  result = x_sum/(leng)\n",
        "  return result"
      ],
      "metadata": {
        "id": "83Zai8iYVHY3"
      },
      "execution_count": null,
      "outputs": []
    },
    {
      "cell_type": "code",
      "source": [
        "print(\"Mean: \",np.mean(x))\n",
        "print(\"Sample: \",sample_variance(x))\n",
        "print(\"Variance: \",population_variance(x))"
      ],
      "metadata": {
        "colab": {
          "base_uri": "https://localhost:8080/"
        },
        "id": "kx7DmbFaWnFA",
        "outputId": "430679c3-db99-4389-dca1-05e68536e56c"
      },
      "execution_count": null,
      "outputs": [
        {
          "output_type": "stream",
          "name": "stdout",
          "text": [
            "Mean:  5.833333333333333\n",
            "Sample:  8.566666666666666\n",
            "Variance:  7.138888888888888\n"
          ]
        }
      ]
    },
    {
      "cell_type": "markdown",
      "source": [
        "### **2.Create two vectors each of dimension 1XM each representing N-dimensional feature vector of a sample. Write a program to compute the Covariance between them.**"
      ],
      "metadata": {
        "id": "njawW880MC9y"
      }
    },
    {
      "cell_type": "code",
      "source": [
        "def Sample_covariance(x,y):\n",
        "  leng = len(x)\n",
        "  x_dash = np.mean(x)\n",
        "  y_dash = np.mean(y)\n",
        "  x1 = x - x_dash\n",
        "  y1 = y - y_dash\n",
        "  x_mul_y = np.multiply(x1,y1)\n",
        "  xy_sum = sum(x_mul_y)\n",
        "  result = xy_sum/(leng-1)\n",
        "  return result\n",
        "def population_covariance(x,y):\n",
        "  leng = len(x)\n",
        "  x_dash = np.mean(x)\n",
        "  y_dash = np.mean(y)\n",
        "  x1 = x - x_dash\n",
        "  y1 = y - y_dash\n",
        "  x_mul_y = np.multiply(x1,y1)\n",
        "  xy_sum = sum(x_mul_y)\n",
        "  result = xy_sum/(leng)\n",
        "  return result"
      ],
      "metadata": {
        "id": "7SLBJ-ZJXoLl"
      },
      "execution_count": null,
      "outputs": []
    },
    {
      "cell_type": "code",
      "source": [
        "print(\"Sample Covariance: \",Sample_covariance(x,y))\n",
        "print(\"Population Covariance: \",population_covariance(x,y))"
      ],
      "metadata": {
        "colab": {
          "base_uri": "https://localhost:8080/"
        },
        "id": "xzqsqKyKdWtk",
        "outputId": "5c39fe31-11a7-4ad0-8c9f-099e9894fb40"
      },
      "execution_count": null,
      "outputs": [
        {
          "output_type": "stream",
          "name": "stdout",
          "text": [
            "Sample Covariance:  7.4333333333333345\n",
            "Population Covariance:  6.1944444444444455\n"
          ]
        }
      ]
    },
    {
      "cell_type": "markdown",
      "source": [
        "### **3.Create two vectors each of dimension 1XN. Write a program to compute the Correlation between them.**"
      ],
      "metadata": {
        "id": "NVObnV5wMnER"
      }
    },
    {
      "cell_type": "code",
      "source": [
        "import math\n",
        "def correlation(x,y):\n",
        "  cov = population_covariance(x,y)\n",
        "  x_var = population_variance(x)\n",
        "  y_var = population_variance(y)\n",
        "  x_y = (x_var*y_var)\n",
        "  x_sqrt = math.sqrt(x_y)\n",
        "  result = cov/x_sqrt\n",
        "  return result"
      ],
      "metadata": {
        "id": "-gIaeCErde4T"
      },
      "execution_count": null,
      "outputs": []
    },
    {
      "cell_type": "code",
      "source": [
        "print(\"Correlation: \",correlation(x,y))"
      ],
      "metadata": {
        "colab": {
          "base_uri": "https://localhost:8080/"
        },
        "id": "t5d1t53Wieej",
        "outputId": "82048f83-4290-4346-c9a2-4ad54559af1d"
      },
      "execution_count": null,
      "outputs": [
        {
          "output_type": "stream",
          "name": "stdout",
          "text": [
            "Correlation:  -0.7559289460184544\n"
          ]
        }
      ]
    },
    {
      "cell_type": "markdown",
      "source": [
        "### **4. Create a Matrix of MXN dimension representing the M-dimensional feature vector for N number of samples i. e (i,j)th entry of the matrix represents the ith feature of jth sample. Write a program to compute the covariance matrix and correlation matrix. Comment on takeaways from these matrixes.**"
      ],
      "metadata": {
        "id": "Rx235lnhM133"
      }
    },
    {
      "cell_type": "code",
      "source": [
        "def mean(vector):\n",
        "    return sum(vector) / len(vector)\n",
        "\n",
        "def covariance(x, y):\n",
        "    if len(x) != len(y):\n",
        "        raise ValueError(\"Vectors must have the same length\")\n",
        "    x_mean = mean(x)\n",
        "    y_mean = mean(y)\n",
        "    cov = sum((x[i] - x_mean) * (y[i] - y_mean) for i in range(len(x))) / (len(x) - 1)\n",
        "    return cov\n",
        "\n",
        "def correlation(x, y):\n",
        "    cov = covariance(x, y)\n",
        "    x_std = (sum((i - mean(x)) ** 2 for i in x) / (len(x) - 1)) ** 0.5\n",
        "    y_std = (sum((i - mean(y)) ** 2 for i in y) / (len(y) - 1)) ** 0.5\n",
        "    corr = cov / (x_std * y_std)\n",
        "    return corr\n",
        "\n",
        "def compute_covariance_matrix(data):\n",
        "    n = len(data[0])\n",
        "    m = len(data)\n",
        "    covariance_matrix = [[0] * m for _ in range(m)]\n",
        "    for i in range(m):\n",
        "        for j in range(m):\n",
        "            covariance_matrix[i][j] = covariance(data[i], data[j])\n",
        "    return covariance_matrix\n",
        "\n",
        "\n",
        "\n",
        "def compute_correlation_matrix(data):\n",
        "    m = len(data)  # Number of features\n",
        "    correlation_matrix = [[0] * m for _ in range(m)]\n",
        "    for i in range(m):\n",
        "        for j in range(m):\n",
        "            correlation_matrix[i][j] = correlation(data[i], data[j])\n",
        "    return correlation_matrix\n",
        "\n",
        "\n",
        "# Example function to generate sample data\n",
        "import random\n",
        "\n",
        "def generate_sample_data(M, N):\n",
        "    return [[random.random() for _ in range(N)] for _ in range(M)]\n",
        "\n",
        "def main():\n",
        "    # Define dimensions\n",
        "    M = 5  # Number of features\n",
        "    N = 100  # Number of samples\n",
        "\n",
        "    # Generate sample data\n",
        "    data = generate_sample_data(M, N)\n",
        "\n",
        "    # Compute covariance matrix\n",
        "    covariance_matrix = compute_covariance_matrix(data)\n",
        "    print(\"Covariance Matrix:\")\n",
        "    for row in covariance_matrix:\n",
        "        print(row)\n",
        "\n",
        "    # Compute correlation matrix\n",
        "    correlation_matrix = compute_correlation_matrix(data)\n",
        "    print(\"\\nCorrelation Matrix:\")\n",
        "    for row in correlation_matrix:\n",
        "        print(row)\n",
        "\n",
        "if __name__ == \"__main__\":\n",
        "    main()\n"
      ],
      "metadata": {
        "colab": {
          "base_uri": "https://localhost:8080/"
        },
        "id": "-IBPzCBWO88o",
        "outputId": "238b94b6-e0e8-46fc-b6b5-4f64f0452f03"
      },
      "execution_count": null,
      "outputs": [
        {
          "output_type": "stream",
          "name": "stdout",
          "text": [
            "Covariance Matrix:\n",
            "[0.08409607635326288, -0.0012299954278539823, -0.006003193768473952, -0.0037138033934165046, 0.012125579380491516]\n",
            "[-0.0012299954278539823, 0.07753025844765592, 0.001556106914634362, -0.0006432259114374864, 0.014228890676035815]\n",
            "[-0.006003193768473952, 0.001556106914634362, 0.08695045414917459, -0.014603035112377373, -0.012254022001344074]\n",
            "[-0.0037138033934165046, -0.0006432259114374864, -0.014603035112377373, 0.08077313837699555, 0.0040431668772170975]\n",
            "[0.012125579380491516, 0.014228890676035815, -0.012254022001344074, 0.0040431668772170975, 0.08804822826199572]\n",
            "\n",
            "Correlation Matrix:\n",
            "[1.0, -0.015232809626249396, -0.0702034681540009, -0.045060661530948586, 0.14091405796294454]\n",
            "[-0.015232809626249396, 1.0, 0.01895256039821652, -0.008128201034975292, 0.1722166417089213]\n",
            "[-0.0702034681540009, 0.01895256039821652, 1.0, -0.1742503758054808, -0.14004977573525815]\n",
            "[-0.045060661530948586, -0.008128201034975292, -0.1742503758054808, 1.0000000000000002, 0.04794329487450512]\n",
            "[0.14091405796294454, 0.1722166417089213, -0.14004977573525815, 0.04794329487450512, 0.9999999999999999]\n"
          ]
        }
      ]
    }
  ]
}