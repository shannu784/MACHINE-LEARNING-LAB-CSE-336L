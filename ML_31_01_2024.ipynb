{
  "nbformat": 4,
  "nbformat_minor": 0,
  "metadata": {
    "colab": {
      "provenance": []
    },
    "kernelspec": {
      "name": "python3",
      "display_name": "Python 3"
    },
    "language_info": {
      "name": "python"
    }
  },
  "cells": [
    {
      "cell_type": "markdown",
      "source": [
        "### Numpy"
      ],
      "metadata": {
        "id": "PGec9yQsF1Ed"
      }
    },
    {
      "cell_type": "code",
      "execution_count": null,
      "metadata": {
        "colab": {
          "base_uri": "https://localhost:8080/"
        },
        "id": "iZGgP_GI_krO",
        "outputId": "46315fe1-2bea-439a-a0c0-23c28d04b890"
      },
      "outputs": [
        {
          "output_type": "stream",
          "name": "stdout",
          "text": [
            "[ 6 14 24 36 50]\n"
          ]
        }
      ],
      "source": [
        "# 1.Write a NumPy program to multiply two given arrays of same size element-by-element.\n",
        "import numpy as np\n",
        "arr1 = np.array([1, 2, 3, 4, 5])\n",
        "arr2 = np.array([6, 7, 8, 9, 10])\n",
        "multiplied_array = np.multiply(arr1, arr2)\n",
        "print(multiplied_array)"
      ]
    },
    {
      "cell_type": "code",
      "source": [
        "# 2. Write a NumPy program to find the missing data in a given array.\n",
        "import numpy as np\n",
        "\n",
        "arr = np.array([1, 2, 3, np.nan, 5, 6, 7, np.nan, 9, 10])\n",
        "\n",
        "missing_data = np.where(np.isnan(arr))\n",
        "print(\"missing data:\", missing_data)"
      ],
      "metadata": {
        "colab": {
          "base_uri": "https://localhost:8080/"
        },
        "id": "vSghBOM3BrnH",
        "outputId": "ad41ae4b-08df-413a-c12a-76e77ab043f1"
      },
      "execution_count": null,
      "outputs": [
        {
          "output_type": "stream",
          "name": "stdout",
          "text": [
            "missing data: (array([3, 7]),)\n"
          ]
        }
      ]
    },
    {
      "cell_type": "code",
      "source": [
        "# 3. Write a NumPy program to test whether each element of a 1-D array is also present in a second array.\n",
        "arr1 = np.array([7,2,5,2,5,6])\n",
        "arr2 = np.array([7,2,5,2,5,6])\n",
        "\n",
        "np.array_equal(arr1,arr2)"
      ],
      "metadata": {
        "colab": {
          "base_uri": "https://localhost:8080/"
        },
        "id": "-LITbIS9_qGP",
        "outputId": "96f04474-47ce-49df-f3f2-739967b7b9eb"
      },
      "execution_count": null,
      "outputs": [
        {
          "output_type": "execute_result",
          "data": {
            "text/plain": [
              "True"
            ]
          },
          "metadata": {},
          "execution_count": 17
        }
      ]
    },
    {
      "cell_type": "code",
      "source": [
        "# 4. Write a NumPy program to save a NumPy array to a text file.\n",
        "with open(\"file1.txt\",\"w\") as file1:\n",
        "    arr1 = np.array([\"1\",\"2\",\"3\",\"4\",\"5\"])\n",
        "    for i in arr1:\n",
        "        file1.write(i)\n",
        "        file1.write(\" \")"
      ],
      "metadata": {
        "id": "jo9FwK2cES7e"
      },
      "execution_count": null,
      "outputs": []
    },
    {
      "cell_type": "code",
      "source": [
        "# 5. Write a NumPy program to Create a 1-D array of 30 evenly spaced elements between 2.5. and 6.5, inclusive.\n",
        "\n",
        "start = 2.5\n",
        "end = 6.5\n",
        "num_elements = 30\n",
        "array = np.linspace(start, end, num_elements)\n",
        "print(array)"
      ],
      "metadata": {
        "colab": {
          "base_uri": "https://localhost:8080/"
        },
        "id": "lJvJ71VmE5P-",
        "outputId": "ecf7fff1-43c5-44bc-ccc1-bef0e4cd46b4"
      },
      "execution_count": null,
      "outputs": [
        {
          "output_type": "stream",
          "name": "stdout",
          "text": [
            "[2.5        2.63793103 2.77586207 2.9137931  3.05172414 3.18965517\n",
            " 3.32758621 3.46551724 3.60344828 3.74137931 3.87931034 4.01724138\n",
            " 4.15517241 4.29310345 4.43103448 4.56896552 4.70689655 4.84482759\n",
            " 4.98275862 5.12068966 5.25862069 5.39655172 5.53448276 5.67241379\n",
            " 5.81034483 5.94827586 6.0862069  6.22413793 6.36206897 6.5       ]\n"
          ]
        }
      ]
    },
    {
      "cell_type": "markdown",
      "source": [
        "### Pandas"
      ],
      "metadata": {
        "id": "rXYHY7OPGOmU"
      }
    },
    {
      "cell_type": "code",
      "source": [
        "# 1. Write a Pandas program to convert Series of lists to one Series.\n",
        "import pandas as pd\n",
        "s = pd.Series([['Red', 'Green', 'White'], ['Red', 'Black'], ['Yellow']])\n",
        "series = s.apply(pd.Series).stack()\n",
        "print(series)"
      ],
      "metadata": {
        "colab": {
          "base_uri": "https://localhost:8080/"
        },
        "id": "ea8vn-MZGUWk",
        "outputId": "4b47e231-8323-4e0f-f548-e0d09bce3daf"
      },
      "execution_count": 32,
      "outputs": [
        {
          "output_type": "stream",
          "name": "stdout",
          "text": [
            "0  0       Red\n",
            "   1     Green\n",
            "   2     White\n",
            "1  0       Red\n",
            "   1     Black\n",
            "2  0    Yellow\n",
            "dtype: object\n"
          ]
        }
      ]
    },
    {
      "cell_type": "code",
      "source": [
        "# 2. Write a Pandas program to create a subset of a given series based on value and condition.\n",
        "s = pd.Series([1, 8, 4, 5, 7, 18, 2, 0, 6, 19])\n",
        "\n",
        "value = 6\n",
        "condition = \"<\"\n",
        "subset = s[s < value]\n",
        "print(subset)"
      ],
      "metadata": {
        "colab": {
          "base_uri": "https://localhost:8080/"
        },
        "id": "k63u4gJTG3tv",
        "outputId": "1c939cdf-2ec4-42e2-cf8d-25caafe21abd"
      },
      "execution_count": null,
      "outputs": [
        {
          "output_type": "stream",
          "name": "stdout",
          "text": [
            "0    1\n",
            "2    4\n",
            "3    5\n",
            "6    2\n",
            "7    0\n",
            "dtype: int64\n"
          ]
        }
      ]
    },
    {
      "cell_type": "code",
      "source": [
        "# 3. Write a Pandas program to display most frequent value in a given series and replace everything else as 'Other' in the series.\n",
        "def replace_others(series):\n",
        "  series = pd.Series([\"red\", \"green\", \"red\", \"blue\", \"red\", \"black\", \"yellow\"])\n",
        "  mode = series.mode().iloc[0]\n",
        "  return series.where(series == mode, \"Other\")\n",
        "\n",
        "modified_series = replace_others(series)\n",
        "print(modified_series)\n",
        "\n"
      ],
      "metadata": {
        "colab": {
          "base_uri": "https://localhost:8080/"
        },
        "id": "CFfMJ65mHz7U",
        "outputId": "4d272360-f1c8-4c49-e362-6956d60b89d2"
      },
      "execution_count": null,
      "outputs": [
        {
          "output_type": "stream",
          "name": "stdout",
          "text": [
            "0      red\n",
            "1    Other\n",
            "2      red\n",
            "3    Other\n",
            "4      red\n",
            "5    Other\n",
            "6    Other\n",
            "dtype: object\n"
          ]
        }
      ]
    },
    {
      "cell_type": "code",
      "source": [
        "# 4. Write a Pandas program to find the positions of numbers that are multiples of 5 of a given series.\n",
        "s = pd.Series([1, 5, 8, 10, 15, 20, 23])\n",
        "multiples_positions = np.where(s % 5 == 0)\n",
        "print(f\"{multiples_positions[0]}\")"
      ],
      "metadata": {
        "colab": {
          "base_uri": "https://localhost:8080/"
        },
        "id": "N3oIq5-yKdxK",
        "outputId": "7f6ed099-b935-411a-bac1-5a7bea8d4ad5"
      },
      "execution_count": null,
      "outputs": [
        {
          "output_type": "stream",
          "name": "stdout",
          "text": [
            "[1 3 4 5]\n"
          ]
        }
      ]
    },
    {
      "cell_type": "code",
      "source": [
        "# 5. Write a Pandas program to calculate the number of characters in each word in a given series.\n",
        "s = pd.Series([\"Hello\", \"This is a Mahmud\", \"SRM\"])\n",
        "word_lengths = s.str.len()\n",
        "print(word_lengths)"
      ],
      "metadata": {
        "colab": {
          "base_uri": "https://localhost:8080/"
        },
        "id": "HwI9FSWKKr7r",
        "outputId": "c2960932-ed66-4ee2-d1f6-77f655ffb948"
      },
      "execution_count": null,
      "outputs": [
        {
          "output_type": "stream",
          "name": "stdout",
          "text": [
            "0     5\n",
            "1    16\n",
            "2     3\n",
            "dtype: int64\n"
          ]
        }
      ]
    },
    {
      "cell_type": "code",
      "source": [
        "# 6. Write a Pandas program to convert year-month string to dates adding a specified day of the month.\n",
        "year_month_strings = [\"2024-01\", \"2023-12\", \"2022-11\"]\n",
        "day_of_month = 15\n",
        "def convert_to_date(date_str):\n",
        "  date_with_day = f\"{date_str}-{day_of_month}\"\n",
        "  return pd.to_datetime(date_with_day, format=\"%Y-%m-%d\")\n",
        "dates = pd.Series(year_month_strings).apply(convert_to_date)\n",
        "print(dates)"
      ],
      "metadata": {
        "colab": {
          "base_uri": "https://localhost:8080/"
        },
        "id": "etRnT_qqMNfz",
        "outputId": "209284a8-7652-4791-9160-261f904e7d73"
      },
      "execution_count": 33,
      "outputs": [
        {
          "output_type": "stream",
          "name": "stdout",
          "text": [
            "0   2024-01-15\n",
            "1   2023-12-15\n",
            "2   2022-11-15\n",
            "dtype: datetime64[ns]\n"
          ]
        }
      ]
    },
    {
      "cell_type": "code",
      "source": [
        "# 7. Write a Pandas program to create and display a DataFrame from a specified dictionary data which has the index labels.\n",
        "data = {\n",
        "    \"Name\": [\"Shannu\", \"Maya\", \"Bhavya\"],\n",
        "    \"Age\": [19, 1, 20],\n",
        "    \"City\": [\"Guntur\", \"Dubai\", \"USA\"],\n",
        "}\n",
        "df = pd.DataFrame(data)\n",
        "print(df)"
      ],
      "metadata": {
        "colab": {
          "base_uri": "https://localhost:8080/"
        },
        "id": "J80uMtd0NHiJ",
        "outputId": "7441f919-eeb9-42aa-e42f-bf10bded570f"
      },
      "execution_count": 34,
      "outputs": [
        {
          "output_type": "stream",
          "name": "stdout",
          "text": [
            "     Name  Age    City\n",
            "0  Shannu   19  Guntur\n",
            "1    Maya    1   Dubai\n",
            "2  Bhavya   20     USA\n"
          ]
        }
      ]
    },
    {
      "cell_type": "code",
      "source": [
        "# 8. Write a Pandas program to select the rows where the number of attempts in the examination is greater than 2.\n",
        "df = pd.DataFrame({\n",
        "  \"Student ID\": [1234, 5678, 9012, 9012, 5678],\n",
        "  \"Name\": [\"John Smith\", \"Jane Doe\", \"Michael Lee\", \"Michael Lee\", \"Jane Doe\"],\n",
        "  \"Subject\": [\"Mathematics\", \"Physics\", \"Biology\", \"Chemistry\", \"Physics\"],\n",
        "  \"Year\": [2023, 2024, 2023, 2023, 2023],\n",
        "  \"Attempt Number\": [1, 3, 2, 1, 4],\n",
        "  \"Score\": [65, 88, 72, 95, 58]\n",
        "})\n",
        "filtered_df = df[df[\"Attempt Number\"] > 2]\n",
        "print(filtered_df)"
      ],
      "metadata": {
        "colab": {
          "base_uri": "https://localhost:8080/"
        },
        "id": "-6Xg7IKiN0aa",
        "outputId": "a36ca096-9085-4d77-c9ed-08dc11d26555"
      },
      "execution_count": 37,
      "outputs": [
        {
          "output_type": "stream",
          "name": "stdout",
          "text": [
            "   Student ID      Name  Subject  Year  Attempt Number  Score\n",
            "1        5678  Jane Doe  Physics  2024               3     88\n",
            "4        5678  Jane Doe  Physics  2023               4     58\n"
          ]
        }
      ]
    },
    {
      "cell_type": "code",
      "source": [
        "# 9. Write a Pandas program to append a new row 'k' to data frame with given values for each column. Now delete the new row and return the original DataFrame.\n",
        "exam_data = {'name': ['Michael', 'Andy', 'Dwight', 'Jim', 'Pam'],\n",
        "            'score': [85, 77, 92, 88, 95]}\n",
        "df = pd.DataFrame(exam_data)\n",
        "def append_and_restore(df):\n",
        "   k = {'name': 'Oscar', 'score': 81}\n",
        "   new_df = df.append(k, ignore_index=True)\n",
        "   original_df = new_df.iloc[:-1, :]\n",
        "   return original_df\n",
        "restored_df = append_and_restore(df.copy())\n",
        "print(restored_df)"
      ],
      "metadata": {
        "colab": {
          "base_uri": "https://localhost:8080/"
        },
        "id": "cnn4Bf6qORmI",
        "outputId": "36e9fc5b-483e-44c2-8f22-9e5e676d3aba"
      },
      "execution_count": 47,
      "outputs": [
        {
          "output_type": "stream",
          "name": "stdout",
          "text": [
            "      name  score\n",
            "0  Michael     85\n",
            "1     Andy     77\n",
            "2   Dwight     92\n",
            "3      Jim     88\n",
            "4      Pam     95\n"
          ]
        },
        {
          "output_type": "stream",
          "name": "stderr",
          "text": [
            "<ipython-input-47-7a82673e9426>:7: FutureWarning: The frame.append method is deprecated and will be removed from pandas in a future version. Use pandas.concat instead.\n",
            "  new_df = df.append(k, ignore_index=True)\n"
          ]
        }
      ]
    },
    {
      "cell_type": "code",
      "source": [
        "# 10. Write a Pandas program to sort the DataFrame first by 'name'in descending order, then by'score' in ascending order.\n",
        "exam_data = {'Name': ['Alice', 'Bob', 'Charlie', 'David', 'Eve'],\n",
        "             'Score': [85, 78, 92, 80, 95]}\n",
        "df = pd.DataFrame(exam_data)\n",
        "sorted_df = df.sort_values(by=['Name', 'Score'], ascending=[False, True])\n",
        "print(sorted_df)"
      ],
      "metadata": {
        "colab": {
          "base_uri": "https://localhost:8080/"
        },
        "id": "m0Wh_p0XPdZb",
        "outputId": "7515627e-3d04-437d-ee42-58d7f998bce7"
      },
      "execution_count": 43,
      "outputs": [
        {
          "output_type": "stream",
          "name": "stdout",
          "text": [
            "      Name  Score\n",
            "4      Eve     95\n",
            "3    David     80\n",
            "2  Charlie     92\n",
            "1      Bob     78\n",
            "0    Alice     85\n"
          ]
        }
      ]
    },
    {
      "cell_type": "code",
      "source": [
        "# 11. Write a Pandas program to replace the 'qualify' column contains the values 'yes' and 'no' with True and False.\n",
        "data = {'Name': ['Shannu', 'Mahmud', 'Buddi', 'Maya', 'Bhavya'],\n",
        "        'Score': [85, 78, 92, 80, 95],\n",
        "        'qualify': ['yes', 'no', 'yes', 'no', 'yes']}\n",
        "df = pd.DataFrame(data)\n",
        "df['qualify'] = df['qualify'].replace({'yes': True, 'no': False})\n",
        "print(df)"
      ],
      "metadata": {
        "colab": {
          "base_uri": "https://localhost:8080/"
        },
        "id": "TER8DvXPQPD6",
        "outputId": "c731b1e8-0445-476b-d1f6-10b689c0d95f"
      },
      "execution_count": 45,
      "outputs": [
        {
          "output_type": "stream",
          "name": "stdout",
          "text": [
            "     Name  Score  qualify\n",
            "0  Shannu     85     True\n",
            "1  Mahmud     78    False\n",
            "2   Buddi     92     True\n",
            "3    Maya     80    False\n",
            "4  Bhavya     95     True\n"
          ]
        }
      ]
    },
    {
      "cell_type": "code",
      "source": [
        "# 12. Write a Pandas program to remove infinite values from a given DataFrame.\n",
        "df = pd.DataFrame({'col1': [10, np.inf, 30, -np.inf, 50],\n",
        "                   'col2': [np.inf, 25, 40, np.nan, 60]})\n",
        "df_filtered = df.replace([np.inf, -np.inf], np.nan).dropna()\n",
        "print(df_filtered)"
      ],
      "metadata": {
        "colab": {
          "base_uri": "https://localhost:8080/"
        },
        "id": "V19woh07RHue",
        "outputId": "394ab879-6161-4fb4-e8b8-168ddd1582a4"
      },
      "execution_count": 46,
      "outputs": [
        {
          "output_type": "stream",
          "name": "stdout",
          "text": [
            "   col1  col2\n",
            "2  30.0  40.0\n",
            "4  50.0  60.0\n"
          ]
        }
      ]
    }
  ]
}