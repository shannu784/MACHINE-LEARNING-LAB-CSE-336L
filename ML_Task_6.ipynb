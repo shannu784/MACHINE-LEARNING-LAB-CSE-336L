{
  "cells": [
    {
      "cell_type": "code",
      "execution_count": null,
      "metadata": {
        "id": "AISMq4fqYEbu"
      },
      "outputs": [],
      "source": [
        "import pandas as ps"
      ]
    },
    {
      "cell_type": "code",
      "execution_count": null,
      "metadata": {
        "id": "AlHLJJKEYEbv",
        "outputId": "95319176-71e8-4910-ea3f-2fe5cf1e5314"
      },
      "outputs": [
        {
          "data": {
            "text/html": [
              "<div>\n",
              "<style scoped>\n",
              "    .dataframe tbody tr th:only-of-type {\n",
              "        vertical-align: middle;\n",
              "    }\n",
              "\n",
              "    .dataframe tbody tr th {\n",
              "        vertical-align: top;\n",
              "    }\n",
              "\n",
              "    .dataframe thead th {\n",
              "        text-align: right;\n",
              "    }\n",
              "</style>\n",
              "<table border=\"1\" class=\"dataframe\">\n",
              "  <thead>\n",
              "    <tr style=\"text-align: right;\">\n",
              "      <th></th>\n",
              "      <th>Outlook</th>\n",
              "      <th>Temperature</th>\n",
              "      <th>Humidity</th>\n",
              "      <th>Wind</th>\n",
              "      <th>Answer</th>\n",
              "    </tr>\n",
              "  </thead>\n",
              "  <tbody>\n",
              "    <tr>\n",
              "      <th>0</th>\n",
              "      <td>sunny</td>\n",
              "      <td>hot</td>\n",
              "      <td>high</td>\n",
              "      <td>weak</td>\n",
              "      <td>no</td>\n",
              "    </tr>\n",
              "    <tr>\n",
              "      <th>1</th>\n",
              "      <td>sunny</td>\n",
              "      <td>hot</td>\n",
              "      <td>high</td>\n",
              "      <td>strong</td>\n",
              "      <td>no</td>\n",
              "    </tr>\n",
              "    <tr>\n",
              "      <th>2</th>\n",
              "      <td>overcast</td>\n",
              "      <td>hot</td>\n",
              "      <td>high</td>\n",
              "      <td>weak</td>\n",
              "      <td>yes</td>\n",
              "    </tr>\n",
              "    <tr>\n",
              "      <th>3</th>\n",
              "      <td>rain</td>\n",
              "      <td>mild</td>\n",
              "      <td>high</td>\n",
              "      <td>weak</td>\n",
              "      <td>yes</td>\n",
              "    </tr>\n",
              "    <tr>\n",
              "      <th>4</th>\n",
              "      <td>rain</td>\n",
              "      <td>cool</td>\n",
              "      <td>normal</td>\n",
              "      <td>weak</td>\n",
              "      <td>yes</td>\n",
              "    </tr>\n",
              "  </tbody>\n",
              "</table>\n",
              "</div>"
            ],
            "text/plain": [
              "    Outlook Temperature Humidity    Wind Answer\n",
              "0     sunny         hot     high    weak     no\n",
              "1     sunny         hot     high  strong     no\n",
              "2  overcast         hot     high    weak    yes\n",
              "3      rain        mild     high    weak    yes\n",
              "4      rain        cool   normal    weak    yes"
            ]
          },
          "execution_count": 48,
          "metadata": {},
          "output_type": "execute_result"
        }
      ],
      "source": [
        "df = ps.read_csv(\"weatherdata.csv\")\n",
        "df.head()"
      ]
    },
    {
      "cell_type": "code",
      "execution_count": null,
      "metadata": {
        "id": "zVUjB5eIYEbw",
        "outputId": "03bb422f-b7c7-4609-cbad-eea1a648dc64"
      },
      "outputs": [
        {
          "data": {
            "text/html": [
              "<div>\n",
              "<style scoped>\n",
              "    .dataframe tbody tr th:only-of-type {\n",
              "        vertical-align: middle;\n",
              "    }\n",
              "\n",
              "    .dataframe tbody tr th {\n",
              "        vertical-align: top;\n",
              "    }\n",
              "\n",
              "    .dataframe thead th {\n",
              "        text-align: right;\n",
              "    }\n",
              "</style>\n",
              "<table border=\"1\" class=\"dataframe\">\n",
              "  <thead>\n",
              "    <tr style=\"text-align: right;\">\n",
              "      <th></th>\n",
              "      <th>Outlook</th>\n",
              "      <th>Temperature</th>\n",
              "      <th>Humidity</th>\n",
              "      <th>Wind</th>\n",
              "      <th>Answer</th>\n",
              "    </tr>\n",
              "  </thead>\n",
              "  <tbody>\n",
              "    <tr>\n",
              "      <th>0</th>\n",
              "      <td>2</td>\n",
              "      <td>1</td>\n",
              "      <td>0</td>\n",
              "      <td>1</td>\n",
              "      <td>0</td>\n",
              "    </tr>\n",
              "    <tr>\n",
              "      <th>1</th>\n",
              "      <td>2</td>\n",
              "      <td>1</td>\n",
              "      <td>0</td>\n",
              "      <td>0</td>\n",
              "      <td>0</td>\n",
              "    </tr>\n",
              "    <tr>\n",
              "      <th>2</th>\n",
              "      <td>0</td>\n",
              "      <td>1</td>\n",
              "      <td>0</td>\n",
              "      <td>1</td>\n",
              "      <td>1</td>\n",
              "    </tr>\n",
              "    <tr>\n",
              "      <th>3</th>\n",
              "      <td>1</td>\n",
              "      <td>2</td>\n",
              "      <td>0</td>\n",
              "      <td>1</td>\n",
              "      <td>1</td>\n",
              "    </tr>\n",
              "    <tr>\n",
              "      <th>4</th>\n",
              "      <td>1</td>\n",
              "      <td>0</td>\n",
              "      <td>1</td>\n",
              "      <td>1</td>\n",
              "      <td>1</td>\n",
              "    </tr>\n",
              "  </tbody>\n",
              "</table>\n",
              "</div>"
            ],
            "text/plain": [
              "   Outlook  Temperature  Humidity  Wind  Answer\n",
              "0        2            1         0     1       0\n",
              "1        2            1         0     0       0\n",
              "2        0            1         0     1       1\n",
              "3        1            2         0     1       1\n",
              "4        1            0         1     1       1"
            ]
          },
          "execution_count": 49,
          "metadata": {},
          "output_type": "execute_result"
        }
      ],
      "source": [
        "from sklearn.preprocessing import LabelEncoder\n",
        "\n",
        "enc = LabelEncoder()\n",
        "df['Outlook'] = enc.fit_transform(df['Outlook'])\n",
        "df['Temperature'] = enc.fit_transform(df['Temperature'])\n",
        "df['Humidity'] = enc.fit_transform(df['Humidity'])\n",
        "df['Wind'] = enc.fit_transform(df['Wind'])\n",
        "df['Answer'] = enc.fit_transform(df['Answer'])\n",
        "df.head()"
      ]
    },
    {
      "cell_type": "code",
      "execution_count": null,
      "metadata": {
        "id": "mepMLsQmYEbw"
      },
      "outputs": [],
      "source": [
        "from sklearn.model_selection import train_test_split\n",
        "x = df.drop('Answer',axis='columns')\n",
        "y = df.Answer\n",
        "x_train,x_test,y_train,y_test = train_test_split(x,y,test_size=0.4)\n",
        "x_train_list = x_train.values.tolist()\n",
        "x_test_list = x_test.values.tolist()\n",
        "y_train_list = y_train.values.tolist()\n",
        "y_test_list = y_test.values.tolist()"
      ]
    },
    {
      "cell_type": "code",
      "execution_count": null,
      "metadata": {
        "id": "52_0sYdCYEbw",
        "outputId": "98396095-901b-4c50-ee2b-b01af72bbfe2"
      },
      "outputs": [
        {
          "name": "stdout",
          "output_type": "stream",
          "text": [
            "Predictions: [0, 1, 0, 0, 1, 0, 0]\n",
            "Accuracy:  0.42857142857142855\n",
            "Confusion Matrix: \n",
            "[[1 0]\n",
            " [4 2]]\n"
          ]
        }
      ],
      "source": [
        "import numpy as np\n",
        "\n",
        "class KNN:\n",
        "    def __init__(self,k):\n",
        "        self.k = k\n",
        "\n",
        "    def fit(self, X_train, y_train):\n",
        "        self.X_train = X_train\n",
        "        self.y_train = y_train\n",
        "\n",
        "    def predict(self, X_test):\n",
        "        predictions = []\n",
        "        for x in X_test:\n",
        "            distances = []\n",
        "            for x_train in self.X_train:\n",
        "                distance = np.sqrt(np.sum(np.square(np.array(x_train) - np.array(x))))\n",
        "                distances.append(distance)\n",
        "\n",
        "            # Get indices of k nearest neighbors\n",
        "            nearest_indices = np.argsort(distances)[:self.k]\n",
        "\n",
        "            # Get labels of k nearest neighbors\n",
        "            nearest_labels = [self.y_train[i] for i in nearest_indices]\n",
        "\n",
        "            # Predict the label based on majority vote\n",
        "            prediction = max(set(nearest_labels), key=nearest_labels.count)\n",
        "            predictions.append(prediction)\n",
        "\n",
        "        return predictions\n",
        "def calculate_accuracy(y_true, y_pred):\n",
        "    correct = 0\n",
        "    for true, pred in zip(y_true, y_pred):\n",
        "        if true == pred:\n",
        "            correct += 1\n",
        "    return correct / len(y_true)\n",
        "\n",
        "def confusion_matrix(y_true, y_pred):\n",
        "    unique_labels = np.unique(y_true)\n",
        "    num_classes = len(unique_labels)\n",
        "    matrix = np.zeros((num_classes, num_classes), dtype=int)\n",
        "\n",
        "    label_to_index = {label: i for i, label in enumerate(unique_labels)}\n",
        "\n",
        "    for true, pred in zip(y_true, y_pred):\n",
        "        true_index = label_to_index[true]\n",
        "        pred_index = label_to_index[pred]\n",
        "        matrix[true_index, pred_index] += 1\n",
        "\n",
        "    return matrix\n",
        "\n",
        "\n",
        "# Create and train KNN classifier\n",
        "k = int(input(\"Enter K Value: \"))\n",
        "clf = KNN(k)\n",
        "clf.fit(x_train_list, y_train_list)\n",
        "# Predict\n",
        "predictions = clf.predict(x_test_list)\n",
        "\n",
        "accuracy = calculate_accuracy(y_test_list,predictions)\n",
        "matrix = confusion_matrix(y_test_list,predictions)\n",
        "print(\"Predictions:\", predictions)\n",
        "print(\"Accuracy: \",accuracy)\n",
        "print(\"Confusion Matrix: \")\n",
        "print(matrix)"
      ]
    },
    {
      "cell_type": "code",
      "execution_count": null,
      "metadata": {
        "id": "Ny7pTAdJYEbw",
        "outputId": "44c98f71-4baa-4391-af96-d4a5ede99f6e"
      },
      "outputs": [
        {
          "data": {
            "image/png": "[encoded data removed]",
            "text/plain": [
              "<Figure size 640x480 with 1 Axes>"
            ]
          },
          "metadata": {},
          "output_type": "display_data"
        }
      ],
      "source": [
        "from matplotlib import pyplot as plt\n",
        "max_k =10\n",
        "k_values = range(1, max_k + 1)\n",
        "accuracies = []\n",
        "for k in range(1, max_k + 1):\n",
        "    clf = KNN(k=k)\n",
        "    clf.fit(x_train_list, y_train_list)\n",
        "    predictions = clf.predict(x_test_list)\n",
        "    accuracy = calculate_accuracy(y_test_list, predictions)\n",
        "    accuracies.append(accuracy)\n",
        "\n",
        "plt.plot(k_values, accuracies, marker='o')\n",
        "plt.title('K vs Accuracy')\n",
        "plt.xlabel('K')\n",
        "plt.ylabel('Accuracy')\n",
        "plt.xticks(k_values)\n",
        "plt.grid(True)\n",
        "plt.show()"
      ]
    },
    {
      "cell_type": "code",
      "execution_count": null,
      "metadata": {
        "id": "gXJGpSwUYEbx",
        "outputId": "da45b57c-72fe-4a3f-887d-2363aaeea681"
      },
      "outputs": [
        {
          "name": "stdout",
          "output_type": "stream",
          "text": [
            "Maximum accuracy: 0.5714285714285714\n",
            "Optimal value of k for maximum accuracy: 1\n"
          ]
        }
      ],
      "source": [
        "max_accuracy = max(accuracies)\n",
        "optimal_k = k_values[accuracies.index(max_accuracy)]\n",
        "print(\"Maximum accuracy:\", max_accuracy)\n",
        "print(\"Optimal value of k for maximum accuracy:\", optimal_k)"
      ]
    }
  ],
  "metadata": {
    "kernelspec": {
      "display_name": "Python 3",
      "language": "python",
      "name": "python3"
    },
    "language_info": {
      "codemirror_mode": {
        "name": "ipython",
        "version": 3
      },
      "file_extension": ".py",
      "mimetype": "text/x-python",
      "name": "python",
      "nbconvert_exporter": "python",
      "pygments_lexer": "ipython3",
      "version": "3.12.0"
    },
    "colab": {
      "provenance": []
    }
  },
  "nbformat": 4,
  "nbformat_minor": 0
}